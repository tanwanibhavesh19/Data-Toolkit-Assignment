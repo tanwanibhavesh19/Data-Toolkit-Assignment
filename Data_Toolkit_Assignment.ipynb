{
  "nbformat": 4,
  "nbformat_minor": 0,
  "metadata": {
    "colab": {
      "provenance": []
    },
    "kernelspec": {
      "name": "python3",
      "display_name": "Python 3"
    },
    "language_info": {
      "name": "python"
    }
  },
  "cells": [
    {
      "cell_type": "markdown",
      "source": [
        "#**DATA TOOLKIT ASSIGNMENT**"
      ],
      "metadata": {
        "id": "7MylbHMmfGaH"
      }
    },
    {
      "cell_type": "markdown",
      "source": [
        "#**THEORATICAL QUESTIONS**\n",
        "\n",
        "1. What is NumPy, and why is it widely used in Python ?\n",
        "  - NumPy, short for Numerical Python, is a fundamental library for numerical and scientific computing in Python. It provides support for large, multi-dimensional arrays and matrices, along with a collection of mathematical functions to operate on these data structures.\n",
        "  - NumPy is widely used due to its efficiency and versatility in handling numerical data. NumPy arrays are stored contiguously in memory, allowing for faster access and manipulation compared to Python lists. This makes NumPy particularly suitable for tasks involving large datasets and complex mathematical operations.\n",
        "\n",
        "2. How does broadcasting work in NumPy ?\n",
        "  - Broadcasting in NumPy is a powerful feature that allows operations on arrays of different shapes and sizes without making explicit copies of data. It's what makes element-wise operations between arrays of different shapes possible.\n",
        "\n",
        "3. What is a Pandas DataFrame ?\n",
        "  - A Pandas DataFrame is a two-dimensional, size-mutable data structure with labeled rows and columns. It is a fundamental data structure in the Pandas library, widely used for data manipulation and analysis in Python.\n",
        "  - It can be seen as a table, similar to a spreadsheet or SQL table, where each column can have a different data type. DataFrames are designed to handle real-world data, which often comes in a tabular format.\n",
        "\n",
        "4.  Explain the use of the groupby() method in Pandas.\n",
        "  - The groupby() method in Pandas is super useful when you want to split your data into groups, apply some operation to each group (like aggregation), and then combine the results. It's part of the \"split-apply-combine\" strategy.\n",
        "\n",
        "5. Why is Seaborn preferred for statistical visualizations ?\n",
        "  - Seaborn is often preferred for statistical visualizations in Python because it builds on top of Matplotlib but adds a higher-level interface for creating attractive, informative, and statistically rich graphics with less code.\n",
        "\n",
        "6. What are the differences between NumPy arrays and Python lists ?\n",
        "  - **NumPy Arrays vs Python Lists**\n",
        "\n",
        "  - Type: NumPy → homogeneous | List → heterogeneous\n",
        "\n",
        "  - Speed: NumPy is much faster\n",
        "\n",
        "  - Memory: NumPy is more efficient\n",
        "\n",
        "  - Operations: NumPy supports vectorized math\n",
        "\n",
        "  - Dimensions: NumPy handles multi-dimensional data easily\n",
        "\n",
        "  - Broadcasting: Available in NumPy, not in lists\n",
        "\n",
        "7.  What is a heatmap, and when should it be used ?\n",
        "  - A heatmap is a data visualization technique that uses color coding to represent values across two axes, showing patterns and relationships in data.\n",
        "\n",
        "8. What does the term “vectorized operation” mean in NumPy ?\n",
        "  - A vectorized operation means doing operations on entire arrays at once, without using loops.\n",
        "  - Instead of processing each element one by one, NumPy applies the operation to all elements at once, using fast, low-level code.\n",
        "\n",
        "9.  How does Matplotlib differ from Plotly ?\n",
        "  - Matplotlib: Is often preferred for academic or highly customized plots because you can fine-tune just about any aspect of the figure—fonts, margins, axis scales.\n",
        "  - Plotly: While still highly customizable, Plotly's real strength lies in interactivity and web-based visuals.\n",
        "\n",
        "10. What is the significance of hierarchical indexing in Pandas ?\n",
        "  - Hierarchical Indexing, also known as MultiIndexing, is a powerful feature in Pandas that allows you to have multiple levels of indexing on an axis (row or column).\n",
        "  - This capability is particularly useful when dealing with high-dimensional data.\n",
        "\n",
        "11. What is the role of Seaborn's pairplot() function ?\n",
        "  - The pairplot() function in Seaborn serves to visualize pairwise relationships between multiple variables in a dataset. It generates a matrix of subplots, where each subplot shows the relationship between two different variables.\n",
        "  - The diagonal subplots often display the univariate distribution of each variable. pairplot() is a high-level function built upon Matplotlib, designed for exploratory data analysis.\n",
        "  - It simplifies the process of plotting multiple bivariate distributions, making it easier to identify patterns and correlations within the data.\n",
        "\n",
        "12. What is the purpose of the describe() function in Pandas ?\n",
        "  - The describe() function in Pandas serves to generate descriptive statistics of a DataFrame or Series.\n",
        "  - It provides a concise summary of the distribution of the data, including measures of central tendency, dispersion, and shape.\n",
        "  - The function is primarily used for exploratory data analysis, allowing users to quickly understand the main characteristics of their datasets.\n",
        "\n",
        "13. Why is handling missing data important in Pandas ?\n",
        "  1.   Accurate Analysis\n",
        "  2.   Avoid Errors\n",
        "  3.   Model Performance\n",
        "  4.   Clean Visualizations\n",
        "  5.   Data Integrity\n",
        "\n",
        "14.  What are the benefits of using Plotly for data visualization ?\n",
        "  - It allows you to display data in a way that's easy to explore and understand, such as by zooming in, hovering over data points for more details, and clicking to get deeper insights Plotly uses JavaScript to handle interactivity, but you don't need to worry about that when using it in Python.\n",
        "\n",
        "15. How does NumPy handle multidimensional arrays ?\n",
        "  - NumPy's core data structure, the ndarray, efficiently handles multidimensional arrays. These arrays organize data in a grid-like structure, where elements are accessed using indices along each dimension (axis).\n",
        "  - NumPy stores the data of an ndarray in a contiguous block of memory, which allows for fast and efficient computations.\n",
        "  - The shape and strides attributes of an ndarray define its structure and how to navigate through the memory block\n",
        "\n",
        "16. What is the role of Bokeh in data visualization ?\n",
        "  - It allows users to build highly interactive graphs and charts, offering features like zooming, panning, and tooltips within web applications.\n",
        "\n",
        "17. Explain the difference between apply() and map() in Pandas.\n",
        "  - map(): This method works on Pandas Series only. It applies a function element-wise to the Series. It can accept a function, a dictionary, or another Series as input. When a function is used, it should be designed to operate on a single element. When a dictionary or Series is used, it maps the values in the Series to the corresponding values in the dictionary or Series.\n",
        "\n",
        "  - apply(): This method can be used on both Series and DataFrames. When used on a Series, it behaves similarly to map() but offers more flexibility as it can handle more complex functions and operations. When used on a DataFrame, it applies a function along an axis (rows or columns). The function passed to apply() can operate on a Series (a row or column) rather than just a single element.\n",
        "\n",
        "18. What are some advanced features of NumPy ?\n",
        "  - NumPy, a fundamental library in scientific computing with Python, offers several advanced features beyond basic array manipulation.\n",
        "  - These include universal functions (ufuncs) for element-wise operations, broadcasting for efficient calculations on arrays of different shapes, and sophisticated indexing techniques like fancy and boolean indexing. Additionally, NumPy provides strong support for linear algebra, including matrix operations, and random number generation.\n",
        "\n",
        "19. How does Pandas simplify time series analysis ?\n",
        "  - Pandas streamlines time series analysis through specialized functionalities built upon its core data structures.\n",
        "  - The Series object, which represents a one-dimensional array, and the DataFrame object, which represents a two-dimensional table, can both be indexed by time stamps, enabling efficient manipulation and analysis of time-dependent data.\n",
        "\n",
        "20. What is the role of a pivot table in Pandas ?\n",
        "  - In Pandas, a pivot table serves to reshape and summarize data within a DataFrame.\n",
        "  - It allows for the transformation of rows into columns, enabling a multi-dimensional view of the data. This functionality is crucial for data analysis, as it facilitates the extraction of meaningful insights from large datasets.\n",
        "  - Pivot tables are particularly useful for aggregating data based on different categories, performing calculations such as sums, averages, or counts, and identifying patterns and trends. They provide a flexible and efficient way to reorganize data, making it easier to analyze and visualize.\n",
        "\n",
        "21. Why is NumPy's array slicing faster than Python's list slicing ?\n",
        "  - NumPy array slicing is faster than Python list slicing due to the way data is stored and processed.\n",
        "  - NumPy arrays store elements of the same data type contiguously in memory, allowing for efficient access and manipulation.\n",
        "  - This contiguous storage enables vectorized operations, where operations are performed on entire arrays rather than individual elements, leveraging optimized C code for faster execution.\n",
        "  - In contrast, Python lists can store heterogeneous data types, requiring additional overhead for each element and resulting in slower, element-wise processing.\n",
        "\n",
        "22. What are some common use cases for Seaborn ?\n",
        "    1.   Distribution analysis\n",
        "    2.   Category comparison\n",
        "    3.   Relationships between variables\n",
        "    4.   Time series analysis\n",
        "    5.   Correlation heatmap\n",
        "    6.   Multi-variable exploration\n",
        "\n",
        "\n",
        "\n"
      ],
      "metadata": {
        "id": "qH-WVmdyfHpw"
      }
    },
    {
      "cell_type": "markdown",
      "source": [
        "#**PRACTICAL QUESTIONS**"
      ],
      "metadata": {
        "id": "y38RoQphnHwu"
      }
    },
    {
      "cell_type": "code",
      "source": [
        "#1. How do you create a 2D NumPy array and calculate the sum of each row?\n",
        "\n",
        "# Create a 2D NumPy array\n",
        "\n",
        "import numpy as np\n",
        "\n",
        "arr = np.array([[1, 2, 3],\n",
        "                [4, 5, 6],\n",
        "                [7, 8, 9]])\n",
        "# Calculate the sum of each row\n",
        "\n",
        "row_sums = np.sum(arr, axis=1)\n",
        "print(row_sums)\n",
        "\n"
      ],
      "metadata": {
        "id": "U2qEvrnNnM2l"
      },
      "execution_count": null,
      "outputs": []
    },
    {
      "cell_type": "code",
      "source": [
        "#2. Write a Pandas script to find the mean of a specific column in a DataFrame.\n",
        "\n",
        "import pandas as pd\n",
        "\n",
        "# Sample DataFrame\n",
        "data = {\n",
        "    'Name': ['Alice', 'Bob', 'Charlie'],\n",
        "    'Age': [25, 30, 35],\n",
        "    'Salary': [50000, 60000, 70000]\n",
        "}\n",
        "\n",
        "df = pd.DataFrame(data)\n",
        "\n",
        "# Calculate the mean of the 'Salary' column\n",
        "mean_salary = df['Salary'].mean()\n",
        "\n",
        "print(\"Mean Salary:\", mean_salary)\n"
      ],
      "metadata": {
        "id": "Z9BtclEvnsOO"
      },
      "execution_count": null,
      "outputs": []
    },
    {
      "cell_type": "code",
      "source": [
        "#3. Create a scatter plot using Matplotlib.\n",
        "\n",
        "import matplotlib.pyplot as plt\n",
        "\n",
        "# Sample data\n",
        "x = [1, 2, 3, 4, 5]\n",
        "y = [5, 7, 4, 6, 8]\n",
        "\n",
        "# Create scatter plot\n",
        "plt.scatter(x, y, color='blue', marker='o')\n",
        "\n",
        "# Add titles and labels\n",
        "plt.title('Simple Scatter Plot')\n",
        "plt.xlabel('X-axis')\n",
        "plt.ylabel('Y-axis')\n",
        "\n",
        "# Show plot\n",
        "plt.show()\n"
      ],
      "metadata": {
        "id": "pUab_H6hn7zu"
      },
      "execution_count": null,
      "outputs": []
    },
    {
      "cell_type": "code",
      "source": [
        "#4. How do you calculate the correlation matrix using Seaborn and visualize it with a heatmap?\n",
        "\n",
        "import pandas as pd\n",
        "import seaborn as sns\n",
        "import matplotlib.pyplot as plt\n",
        "\n",
        "# Sample DataFrame\n",
        "data = {\n",
        "    'Math': [80, 85, 78, 92, 88],\n",
        "    'Science': [82, 79, 88, 91, 85],\n",
        "    'English': [75, 80, 72, 89, 84]\n",
        "}\n",
        "\n",
        "df = pd.DataFrame(data)\n"
      ],
      "metadata": {
        "id": "lktVygNToGPF"
      },
      "execution_count": null,
      "outputs": []
    },
    {
      "cell_type": "code",
      "source": [
        "#5. Generate a bar plot using Plotly.\n",
        "\n",
        "import plotly.express as px\n",
        "\n",
        "# Sample data\n",
        "data = {\n",
        "    'Category': ['A', 'B', 'C', 'D', 'E'],\n",
        "    'Value': [10, 15, 7, 20, 13]\n",
        "}\n",
        "\n",
        "# Create a DataFrame\n",
        "import pandas as pd\n",
        "df = pd.DataFrame(data)\n",
        "\n",
        "# Create a bar plot using Plotly Express\n",
        "fig = px.bar(df, x='Category', y='Value', title='Bar Plot Example')\n",
        "\n",
        "# Show the plot\n",
        "fig.show()\n"
      ],
      "metadata": {
        "id": "GMTzNe6hoPGc"
      },
      "execution_count": null,
      "outputs": []
    },
    {
      "cell_type": "code",
      "source": [
        "#6. Create a DataFrame and add a new column based on an existing column.\n",
        "\n",
        "import pandas as pd\n",
        "\n",
        "# Create a simple DataFrame\n",
        "data = {\n",
        "    'Name': ['Alice', 'Bob', 'Charlie'],\n",
        "    'Score': [80, 92, 67]\n",
        "}\n",
        "\n",
        "df = pd.DataFrame(data)\n",
        "\n",
        "# Add a new column 'Grade' based on 'Score'\n",
        "df['Grade'] = df['Score'].apply(lambda x: 'A' if x >= 90 else 'B' if x >= 75 else 'C')\n",
        "\n",
        "# Display the DataFrame\n",
        "print(df)\n"
      ],
      "metadata": {
        "id": "DPgzV1olobm1"
      },
      "execution_count": null,
      "outputs": []
    },
    {
      "cell_type": "code",
      "source": [
        "#7. Write a program to perform element-wise multiplication of two NumPy arrays.\n",
        "\n",
        "import numpy as np\n",
        "\n",
        "# Create two NumPy arrays\n",
        "a = np.array([1, 2, 3, 4])\n",
        "b = np.array([10, 20, 30, 40])\n",
        "\n",
        "# Perform element-wise multiplication\n",
        "result = a * b\n",
        "\n",
        "# Display the result\n",
        "print(\"Array A:\", a)\n",
        "print(\"Array B:\", b)\n",
        "print(\"Element-wise Multiplication:\", result)\n"
      ],
      "metadata": {
        "id": "BzxMhU9-ojod"
      },
      "execution_count": null,
      "outputs": []
    },
    {
      "cell_type": "code",
      "source": [
        "#8. Create a line plot with multiple lines using Matplotlib\n",
        "\n",
        "import matplotlib.pyplot as plt\n",
        "\n",
        "# Sample data\n",
        "x = [1, 2, 3, 4, 5]\n",
        "y1 = [10, 20, 25, 30, 35]\n",
        "y2 = [5, 15, 20, 25, 30]\n",
        "y3 = [2, 10, 15, 20, 28]\n",
        "\n",
        "# Create the plot\n",
        "plt.plot(x, y1, label='Line 1', color='blue')\n",
        "plt.plot(x, y2, label='Line 2', color='green')\n",
        "plt.plot(x, y3, label='Line 3', color='red')\n",
        "\n",
        "# Add labels and title\n",
        "plt.xlabel('X-axis')\n",
        "plt.ylabel('Y-axis')\n",
        "plt.title('Multiple Line Plot')\n",
        "\n",
        "# Add legend\n",
        "plt.legend()\n",
        "\n",
        "# Show the plot\n",
        "plt.show()\n"
      ],
      "metadata": {
        "id": "q1D9r-_yorf9"
      },
      "execution_count": null,
      "outputs": []
    },
    {
      "cell_type": "code",
      "source": [
        "#9. Generate a Pandas DataFrame and filter rows where a column value is greater than a threshold\n",
        "\n",
        "import pandas as pd\n",
        "\n",
        "# Create a sample DataFrame\n",
        "data = {\n",
        "    'Name': ['Alice', 'Bob', 'Charlie', 'David'],\n",
        "    'Score': [85, 92, 67, 78]\n",
        "}\n",
        "\n",
        "df = pd.DataFrame(data)\n",
        "\n",
        "# Define the threshold\n",
        "threshold = 80\n",
        "\n",
        "# Filter rows where 'Score' > threshold\n",
        "filtered_df = df[df['Score'] > threshold]\n",
        "\n",
        "# Display the filtered DataFrame\n",
        "print(filtered_df)\n"
      ],
      "metadata": {
        "id": "ic-PCKVko08k"
      },
      "execution_count": null,
      "outputs": []
    },
    {
      "cell_type": "code",
      "source": [
        "#10. Create a histogram using Seaborn to visualize a distribution\n",
        "\n",
        "import seaborn as sns\n",
        "import matplotlib.pyplot as plt\n",
        "\n",
        "# Sample data (e.g., ages of a group of people)\n",
        "data = [23, 45, 56, 67, 45, 23, 22, 45, 67, 89, 90, 56, 45, 23, 56, 67]\n",
        "\n",
        "# Create a Seaborn histogram\n",
        "sns.histplot(data, kde=True, bins=10, color='blue')\n",
        "\n",
        "# Add title and labels\n",
        "plt.title('Distribution of Ages')\n",
        "plt.xlabel('Age')\n",
        "plt.ylabel('Frequency')\n",
        "\n",
        "# Show the plot\n",
        "plt.show()\n"
      ],
      "metadata": {
        "id": "eKNDaMf-o8m9"
      },
      "execution_count": null,
      "outputs": []
    },
    {
      "cell_type": "code",
      "source": [
        "#11. Perform matrix multiplication using NumPy.\n",
        "\n",
        "import numpy as np\n",
        "\n",
        "# Define two matrices (2D arrays)\n",
        "A = np.array([[1, 2],\n",
        "              [3, 4]])\n",
        "\n",
        "B = np.array([[5, 6],\n",
        "              [7, 8]])\n",
        "\n",
        "# Perform matrix multiplication\n",
        "result = np.matmul(A, B)\n",
        "\n",
        "# Display the result\n",
        "print(\"Matrix A:\\n\", A)\n",
        "print(\"Matrix B:\\n\", B)\n",
        "print(\"Matrix multiplication result:\\n\", result)\n"
      ],
      "metadata": {
        "id": "Sb53hiJipD4N"
      },
      "execution_count": null,
      "outputs": []
    },
    {
      "cell_type": "code",
      "source": [
        "#12. Use Pandas to load a CSV file and display its first 5 rows\n",
        "\n",
        "import pandas as pd\n",
        "\n",
        "# Load the CSV file into a DataFrame\n",
        "df = pd.read_csv('path_to_your_file.csv')\n",
        "\n",
        "# Display the first 5 rows of the DataFrame\n",
        "print(df.head())\n"
      ],
      "metadata": {
        "id": "HISlPZ_GpMyl"
      },
      "execution_count": null,
      "outputs": []
    },
    {
      "cell_type": "code",
      "source": [
        "#13. Create a 3D scatter plot using Plotly\n",
        "\n",
        "import plotly.express as px\n",
        "import pandas as pd\n",
        "\n",
        "# Create a sample DataFrame with 3D data\n",
        "data = {\n",
        "    'X': [1, 2, 3, 4, 5],\n",
        "    'Y': [5, 4, 3, 2, 1],\n",
        "    'Z': [1, 2, 3, 4, 5],\n",
        "    'Label': ['A', 'B', 'C', 'D', 'E']\n",
        "}\n",
        "\n",
        "df = pd.DataFrame(data)\n",
        "\n",
        "# Create a 3D scatter plot\n",
        "fig = px.scatter_3d(df, x='X', y='Y', z='Z', color='Label', title='3D Scatter Plot')\n",
        "\n",
        "# Show the plot\n",
        "fig.show()\n"
      ],
      "metadata": {
        "id": "p-6aAiLLpSwN"
      },
      "execution_count": null,
      "outputs": []
    }
  ]
}